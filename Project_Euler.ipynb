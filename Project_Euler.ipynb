{
  "nbformat": 4,
  "nbformat_minor": 0,
  "metadata": {
    "colab": {
      "name": "Project Euler.ipynb",
      "provenance": [],
      "collapsed_sections": [],
      "include_colab_link": true
    },
    "kernelspec": {
      "name": "python3",
      "display_name": "Python 3"
    }
  },
  "cells": [
    {
      "cell_type": "markdown",
      "metadata": {
        "id": "view-in-github",
        "colab_type": "text"
      },
      "source": [
        "<a href=\"https://colab.research.google.com/github/pennylaine02/FTW3-Day3/blob/master/Project_Euler.ipynb\" target=\"_parent\"><img src=\"https://colab.research.google.com/assets/colab-badge.svg\" alt=\"Open In Colab\"/></a>"
      ]
    },
    {
      "cell_type": "code",
      "metadata": {
        "id": "-HHUG2HHIYN3",
        "colab_type": "code",
        "colab": {
          "base_uri": "https://localhost:8080/",
          "height": 34
        },
        "outputId": "335c3654-5b8a-4ef6-dae9-8dcb1ff62097"
      },
      "source": [
        "def answer():\n",
        "  total=0\n",
        "  for n in range(1,1000):\n",
        "    if (n%3==0) or (n%5==0):\n",
        "      total=total+n\n",
        "\n",
        "  return total\n",
        "answer()"
      ],
      "execution_count": 2,
      "outputs": [
        {
          "output_type": "execute_result",
          "data": {
            "text/plain": [
              "233168"
            ]
          },
          "metadata": {
            "tags": []
          },
          "execution_count": 2
        }
      ]
    },
    {
      "cell_type": "code",
      "metadata": {
        "id": "kCUuhbSPNr5k",
        "colab_type": "code",
        "colab": {
          "base_uri": "https://localhost:8080/",
          "height": 34
        },
        "outputId": "66976952-2fd7-4e78-c4c4-ddb0528dc3f5"
      },
      "source": [
        "sum(x for x in range(1000) if x%3==0 or x%5==0)"
      ],
      "execution_count": 4,
      "outputs": [
        {
          "output_type": "execute_result",
          "data": {
            "text/plain": [
              "233168"
            ]
          },
          "metadata": {
            "tags": []
          },
          "execution_count": 4
        }
      ]
    },
    {
      "cell_type": "code",
      "metadata": {
        "id": "NbGcnN1VPHjW",
        "colab_type": "code",
        "colab": {
          "base_uri": "https://localhost:8080/",
          "height": 34
        },
        "outputId": "1ebfb58c-e72f-48ca-dee2-06cd7d53ae33"
      },
      "source": [
        "number1 = 1\n",
        "number2 = 2\n",
        "temp = 0\n",
        "sum = 0\n",
        "while number2 <4000000:\n",
        "  if number2%2==0:\n",
        "        sum = sum + number2\n",
        "  temp = number2\n",
        "  number2 = number2 + number1\n",
        "  number1=temp\n",
        "\n",
        "print(sum)"
      ],
      "execution_count": 6,
      "outputs": [
        {
          "output_type": "stream",
          "text": [
            "4613732\n"
          ],
          "name": "stdout"
        }
      ]
    },
    {
      "cell_type": "code",
      "metadata": {
        "id": "zvS_yqQMR7hf",
        "colab_type": "code",
        "colab": {}
      },
      "source": [
        ""
      ],
      "execution_count": 0,
      "outputs": []
    }
  ]
}